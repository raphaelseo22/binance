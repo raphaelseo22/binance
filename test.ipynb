{
 "cells": [
  {
   "cell_type": "code",
   "execution_count": 1,
   "metadata": {},
   "outputs": [],
   "source": [
    "import pandas as pd\n",
    "from binance.client import Client"
   ]
  },
  {
   "cell_type": "code",
   "execution_count": 2,
   "metadata": {},
   "outputs": [],
   "source": [
    "api_key = \"GtcLDz4pDKyMkIH3BwOso5FXxblugREs0WWYaGXKOHnPB2hp1C5bFjjIix7wYAFx\"\n",
    "api_secret = \"y6BH8LBsNaYSJd3bp6K7uOaNGcmtsxKDSOFofkT0vUQ8ZE17Ov6KoFOjdiYBb0dj\""
   ]
  },
  {
   "cell_type": "code",
   "execution_count": 3,
   "metadata": {},
   "outputs": [],
   "source": [
    "client = Client(api_key=api_key, api_secret=api_secret)"
   ]
  },
  {
   "cell_type": "code",
   "execution_count": 4,
   "metadata": {},
   "outputs": [
    {
     "name": "stdout",
     "output_type": "stream",
     "text": [
      "<class 'list'> 2066\n"
     ]
    }
   ],
   "source": [
    "tickers = client.get_all_tickers()\n",
    "print(type(tickers), len(tickers))"
   ]
  },
  {
   "cell_type": "code",
   "execution_count": 5,
   "metadata": {},
   "outputs": [
    {
     "data": {
      "text/html": [
       "<div>\n",
       "<style scoped>\n",
       "    .dataframe tbody tr th:only-of-type {\n",
       "        vertical-align: middle;\n",
       "    }\n",
       "\n",
       "    .dataframe tbody tr th {\n",
       "        vertical-align: top;\n",
       "    }\n",
       "\n",
       "    .dataframe thead th {\n",
       "        text-align: right;\n",
       "    }\n",
       "</style>\n",
       "<table border=\"1\" class=\"dataframe\">\n",
       "  <thead>\n",
       "    <tr style=\"text-align: right;\">\n",
       "      <th></th>\n",
       "      <th>price</th>\n",
       "    </tr>\n",
       "    <tr>\n",
       "      <th>symbol</th>\n",
       "      <th></th>\n",
       "    </tr>\n",
       "  </thead>\n",
       "  <tbody>\n",
       "    <tr>\n",
       "      <th>ETHBTC</th>\n",
       "      <td>0.05889900</td>\n",
       "    </tr>\n",
       "    <tr>\n",
       "      <th>LTCBTC</th>\n",
       "      <td>0.00206500</td>\n",
       "    </tr>\n",
       "    <tr>\n",
       "      <th>BNBBTC</th>\n",
       "      <td>0.00937200</td>\n",
       "    </tr>\n",
       "    <tr>\n",
       "      <th>NEOBTC</th>\n",
       "      <td>0.00038400</td>\n",
       "    </tr>\n",
       "    <tr>\n",
       "      <th>QTUMETH</th>\n",
       "      <td>0.00218500</td>\n",
       "    </tr>\n",
       "    <tr>\n",
       "      <th>...</th>\n",
       "      <td>...</td>\n",
       "    </tr>\n",
       "    <tr>\n",
       "      <th>OPBUSD</th>\n",
       "      <td>1.06800000</td>\n",
       "    </tr>\n",
       "    <tr>\n",
       "      <th>OPUSDT</th>\n",
       "      <td>1.06900000</td>\n",
       "    </tr>\n",
       "    <tr>\n",
       "      <th>OGBUSD</th>\n",
       "      <td>3.15000000</td>\n",
       "    </tr>\n",
       "    <tr>\n",
       "      <th>KEYBUSD</th>\n",
       "      <td>0.00425400</td>\n",
       "    </tr>\n",
       "    <tr>\n",
       "      <th>ASRBUSD</th>\n",
       "      <td>2.85300000</td>\n",
       "    </tr>\n",
       "  </tbody>\n",
       "</table>\n",
       "<p>2066 rows × 1 columns</p>\n",
       "</div>"
      ],
      "text/plain": [
       "              price\n",
       "symbol             \n",
       "ETHBTC   0.05889900\n",
       "LTCBTC   0.00206500\n",
       "BNBBTC   0.00937200\n",
       "NEOBTC   0.00038400\n",
       "QTUMETH  0.00218500\n",
       "...             ...\n",
       "OPBUSD   1.06800000\n",
       "OPUSDT   1.06900000\n",
       "OGBUSD   3.15000000\n",
       "KEYBUSD  0.00425400\n",
       "ASRBUSD  2.85300000\n",
       "\n",
       "[2066 rows x 1 columns]"
      ]
     },
     "execution_count": 5,
     "metadata": {},
     "output_type": "execute_result"
    }
   ],
   "source": [
    "df = pd.DataFrame(data=tickers)\n",
    "df.set_index('symbol', inplace=True)\n",
    "df"
   ]
  },
  {
   "cell_type": "code",
   "execution_count": 6,
   "metadata": {},
   "outputs": [
    {
     "name": "stdout",
     "output_type": "stream",
     "text": [
      "{'symbol': 'BTCUSDT', 'price': '31018.82000000'}\n"
     ]
    }
   ],
   "source": [
    "btc_usdt = client.get_symbol_ticker(symbol=\"BTCUSDT\")\n",
    "print(btc_usdt)"
   ]
  },
  {
   "cell_type": "code",
   "execution_count": 7,
   "metadata": {},
   "outputs": [
    {
     "name": "stdout",
     "output_type": "stream",
     "text": [
      "{'asset': 'USDT', 'free': '0.00000000', 'locked': '0.00000000'}\n"
     ]
    }
   ],
   "source": [
    "balance = client.get_asset_balance(asset='USDT')\n",
    "print(balance)"
   ]
  },
  {
   "cell_type": "code",
   "execution_count": null,
   "metadata": {},
   "outputs": [],
   "source": []
  }
 ],
 "metadata": {
  "interpreter": {
   "hash": "84a49197bb628238dd717a9a2fc1f586f5bcafe2145c5513a48512920b7e5545"
  },
  "kernelspec": {
   "display_name": "Python 3.8.13 ('binance-6UCWxIWu')",
   "language": "python",
   "name": "python3"
  },
  "language_info": {
   "codemirror_mode": {
    "name": "ipython",
    "version": 3
   },
   "file_extension": ".py",
   "mimetype": "text/x-python",
   "name": "python",
   "nbconvert_exporter": "python",
   "pygments_lexer": "ipython3",
   "version": "3.8.13"
  },
  "orig_nbformat": 4
 },
 "nbformat": 4,
 "nbformat_minor": 2
}
